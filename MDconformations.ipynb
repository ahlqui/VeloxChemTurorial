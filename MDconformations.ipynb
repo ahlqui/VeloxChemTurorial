{
 "cells": [
  {
   "cell_type": "code",
   "execution_count": null,
   "id": "31f773b5-6bab-44fd-819b-ef92e252f7fe",
   "metadata": {},
   "outputs": [],
   "source": [
    "import veloxchem as vlx\n",
    "from openmmdynamics3 import OpenMMDynamics"
   ]
  },
  {
   "cell_type": "code",
   "execution_count": null,
   "id": "c3e70c3f-77af-47ab-8f09-66516258d947",
   "metadata": {},
   "outputs": [],
   "source": [
    "molecule = vlx.Molecule.read_smiles('COc1ccc2c(c1)nc([nH]2)S(=O)Cc1ncc(c(c1C)OC)C')\n",
    "print('Structure of the molecule entered: ')\n",
    "molecule.show(atom_indices=False)\n"
   ]
  },
  {
   "cell_type": "code",
   "execution_count": null,
   "id": "ffc7b32e-1655-4483-89dc-f94b5aa1b11d",
   "metadata": {
    "scrolled": true
   },
   "outputs": [],
   "source": [
    "ff_gen = vlx.ForceFieldGenerator()\n",
    "#ff_gen.ostream.mute()\n",
    "ff_gen.create_topology(molecule)\n",
    "ff_gen.write_openmm_files('mol','MOL')"
   ]
  },
  {
   "cell_type": "code",
   "execution_count": null,
   "id": "fc5529d9-44c7-479b-ad9e-fe071a53fd27",
   "metadata": {
    "scrolled": true
   },
   "outputs": [],
   "source": [
    "opm_dyn = OpenMMDynamics()\n",
    "pdb_files = ['mol.pdb']\n",
    "xml_files = ['mol.xml']\n",
    "opm_dyn.build_custom_system(pdb_files, xml_files, phase='gas')\n",
    "steps=1000000\n",
    "snap=200\n",
    "\n",
    "# Vi kan nu köra en kort simulering för att se att allt fungerar!!!\n",
    "opm_dyn.run_md(ensemble='NVT', \n",
    "               temperature=700,\n",
    "               timestep=2.0,\n",
    "               nsteps=steps,\n",
    "               snapshots=snap)"
   ]
  },
  {
   "cell_type": "code",
   "execution_count": null,
   "id": "9803ef44-ce07-4404-bab7-0d1053a455ae",
   "metadata": {},
   "outputs": [],
   "source": [
    "import MDAnalysis as mda\n",
    "\n",
    "for i in range(snap):\n",
    "  universe = mda.Universe('trajectory.pdb')\n",
    "  universe.trajectory[i]\n",
    "  allatoms = universe.select_atoms('all')\n",
    "  allatoms.write('trajectory1_' + str(i) + '.pdb')\n",
    "  #with mda.Writer(gromacs_file + '.xyz') as xyz:\n",
    "  #   xyz.write(universe)\n",
    "\n"
   ]
  },
  {
   "cell_type": "code",
   "execution_count": null,
   "id": "131f71d7-b0f6-411e-a862-6f40c64e2894",
   "metadata": {},
   "outputs": [],
   "source": [
    "m = min(energies1)\n",
    "m_index = energies1.index(m)\n",
    "\n",
    "lowest_geometry = vlx.Molecule.read_xyz_string(geometries1[m_index])\n",
    "lowest_geometry.show()"
   ]
  },
  {
   "cell_type": "code",
   "execution_count": null,
   "id": "92c5698f-1879-47dd-91bd-9c4d8d6691bc",
   "metadata": {},
   "outputs": [],
   "source": [
    "print(geometries1[m_index])"
   ]
  },
  {
   "cell_type": "code",
   "execution_count": null,
   "id": "a1cab742-54b7-433f-b6cd-733d03f4a963",
   "metadata": {},
   "outputs": [],
   "source": []
  }
 ],
 "metadata": {
  "kernelspec": {
   "display_name": "Python 3 (ipykernel)",
   "language": "python",
   "name": "python3"
  },
  "language_info": {
   "codemirror_mode": {
    "name": "ipython",
    "version": 3
   },
   "file_extension": ".py",
   "mimetype": "text/x-python",
   "name": "python",
   "nbconvert_exporter": "python",
   "pygments_lexer": "ipython3",
   "version": "3.11.9"
  }
 },
 "nbformat": 4,
 "nbformat_minor": 5
}

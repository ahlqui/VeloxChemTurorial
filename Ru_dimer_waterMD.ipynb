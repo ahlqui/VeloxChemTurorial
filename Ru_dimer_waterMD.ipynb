{
 "cells": [
  {
   "cell_type": "code",
   "execution_count": null,
   "id": "94d0ed43-3eb4-4722-b698-ff0085dbf5f9",
   "metadata": {},
   "outputs": [],
   "source": [
    "import veloxchem as vlx\n",
    "from openmmdynamics3 import OpenMMDynamics"
   ]
  },
  {
   "cell_type": "code",
   "execution_count": null,
   "id": "972e2d83-956e-4ce8-88ef-2025149df68a",
   "metadata": {},
   "outputs": [],
   "source": [
    "first_xyz = '1.xyz' # Name of first xyz-file in quotes ex '1.xyz'\n",
    "second_xyz = '2.xyz' # Name of second xyz-file in quotes ex '2.xyz'\n",
    "identical_molecules = True # Set to True if the two molecules are identical, False if they are different\n",
    "first_charge = 1 \n",
    "second_charge = 1\n",
    "first_multiplicity = 2\n",
    "second_multiplicity = 2\n",
    "medium = 'water' # gas or water\n",
    "size_of_md_box = 4 # Cubic MD simulation box in nm\n",
    "simulation_time = 1 # simulation time in nanoseconds"
   ]
  },
  {
   "cell_type": "code",
   "execution_count": null,
   "id": "7ce7fd2f-c90b-47b4-a14e-7379449e1fc6",
   "metadata": {
    "jupyter": {
     "source_hidden": true
    }
   },
   "outputs": [],
   "source": [
    "#Display the first molecule:\n",
    "molecule1 = vlx.Molecule.read_xyz_file(first_xyz)\n",
    "print('Structure of the molecule entered: ')\n",
    "molecule1.show(atom_indices=True)"
   ]
  },
  {
   "cell_type": "code",
   "execution_count": null,
   "id": "deb63443-877b-46c9-95fe-205d119a8f1e",
   "metadata": {
    "jupyter": {
     "source_hidden": true
    }
   },
   "outputs": [],
   "source": [
    "#Dispaly the second molecule:\n",
    "molecule2 = vlx.Molecule.read_xyz_file(second_xyz)\n",
    "print('Structure of the molecule entered: ')\n",
    "molecule2.show(atom_indices=True)"
   ]
  },
  {
   "cell_type": "code",
   "execution_count": null,
   "id": "67f65fd2-ae94-4bc9-bdb5-9c91421d2408",
   "metadata": {
    "jupyter": {
     "source_hidden": true
    },
    "scrolled": true
   },
   "outputs": [],
   "source": [
    "#Generate force field and pdb for first structure\n",
    "ff_gen = vlx.ForceFieldGenerator()\n",
    "molecule1.set_multiplicity(first_multiplicity)\n",
    "molecule1.set_charge(first_charge)\n",
    "basis = vlx.MolecularBasis.read(molecule1, 'sto-3g')\n",
    "scf_drv = vlx.ScfUnrestrictedDriver()\n",
    "scf_drv.ostream.mute()\n",
    "scf_drv.conv_thresh = 1e-3\n",
    "scf_drv.max_iter = 500\n",
    "scf_drv.xcfun = 'b3lyp'\n",
    "results = scf_drv.compute(molecule1, basis)\n",
    "ff_gen.ostream.mute()\n",
    "ff_gen.create_topology(molecule1, basis , results)\n",
    "ff_gen.write_openmm_files('mol1','MO1')"
   ]
  },
  {
   "cell_type": "code",
   "execution_count": null,
   "id": "cb0ce91c-57a5-46bd-8e24-288ae899ec5a",
   "metadata": {
    "jupyter": {
     "source_hidden": true
    }
   },
   "outputs": [],
   "source": [
    "#Generate force field and pdb for second structure\n",
    "if identical_molecules == True:\n",
    "    ff_gen2 = vlx.ForceFieldGenerator()\n",
    "    ff_gen2.ostream.mute()\n",
    "    ff_gen2.create_topology(molecule2, no_resp=True)\n",
    "    ff_gen2.write_openmm_files('mol2','MO2')\n",
    "else:\n",
    "    ff_gen2 = vlx.ForceFieldGenerator()\n",
    "    molecule2.set_multiplicity(second_multiplicity)\n",
    "    molecule2.set_charge(second_charge)\n",
    "    basis2 = vlx.MolecularBasis.read(molecule2, 'sto-3g')\n",
    "    scf_drv2 = vlx.ScfUnrestrictedDriver()\n",
    "    scf_drv2.ostream.mute()\n",
    "    scf_drv2.conv_thresh = 1e-3\n",
    "    scf_drv2.max_iter = 500\n",
    "    scf_drv2.xcfun = 'b3lyp'\n",
    "    results2 = scf_drv2.compute(molecule2, basis2)\n",
    "    ff_gen2.ostream.mute()\n",
    "    ff_gen2.create_topology(molecule2, basis2 , results2)\n",
    "    ff_gen2.write_openmm_files('mol2','MO2')"
   ]
  },
  {
   "cell_type": "code",
   "execution_count": null,
   "id": "2b19b5b1-3b01-4368-b0f5-db0d5aafdeed",
   "metadata": {
    "jupyter": {
     "source_hidden": true
    },
    "scrolled": true
   },
   "outputs": [],
   "source": [
    "#Run molecular dynamics\n",
    "opm_dyn = OpenMMDynamics()\n",
    "opm_dyn.box_size = size_of_md_box\n",
    "pdb_files = ['mol1.pdb', 'mol2.pdb']\n",
    "xml_files = ['mol1.xml']\n",
    "opm_dyn.build_custom_system(pdb_files, xml_files, phase=medium)\n",
    "steps=simulation_time*500000\n",
    "snap=200\n",
    "\n",
    "# Vi kan nu köra en kort simulering för att se att allt fungerar!!!\n",
    "opm_dyn.run_md(ensemble='NVT', \n",
    "               temperature=300,\n",
    "               timestep=2.0,\n",
    "               nsteps=steps,\n",
    "               snapshots=snap)"
   ]
  },
  {
   "cell_type": "code",
   "execution_count": null,
   "id": "01af0e39-512d-4d62-b9e3-81a174d48389",
   "metadata": {
    "jupyter": {
     "source_hidden": true
    }
   },
   "outputs": [],
   "source": [
    "#Visualize dynamics\n",
    "import nglview\n",
    "import mdtraj as md\n",
    "\n",
    "traj = md.load(\"trajectory.pdb\", top=\"trajectory.pdb\")\n",
    "traj.image_molecules(anchor_molecules=[set(traj.topology.residue(0).atoms)])\n",
    "view = nglview.show_mdtraj(traj)\n",
    "view.clear_representations()\n",
    "view.add_representation(\"ball+stick\", selection=\"water\", opacity=0.2)\n",
    "view.add_spacefill(\"not water\")\n",
    "view.center()\n",
    "view"
   ]
  }
 ],
 "metadata": {
  "kernelspec": {
   "display_name": "Python 3 (ipykernel)",
   "language": "python",
   "name": "python3"
  },
  "language_info": {
   "codemirror_mode": {
    "name": "ipython",
    "version": 3
   },
   "file_extension": ".py",
   "mimetype": "text/x-python",
   "name": "python",
   "nbconvert_exporter": "python",
   "pygments_lexer": "ipython3",
   "version": "3.11.9"
  }
 },
 "nbformat": 4,
 "nbformat_minor": 5
}
